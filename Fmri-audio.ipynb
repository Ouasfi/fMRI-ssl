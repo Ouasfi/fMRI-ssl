{
 "cells": [
  {
   "cell_type": "code",
   "execution_count": 1,
   "metadata": {},
   "outputs": [],
   "source": [
    "#general deps\n",
    "import torch\n",
    "from torch.nn.functional import soft_margin_loss\n",
    "from fastai.data.transforms import get_image_files\n",
    "from fastai.data.core import DataLoaders\n",
    "from fastai.vision.all import *\n",
    "from importlib import reload\n",
    "# local deps\n",
    "import model as mdl; reload(mdl)\n",
    "import RP_dataset as rp\n"
   ]
  },
  {
   "cell_type": "code",
   "execution_count": 2,
   "metadata": {},
   "outputs": [],
   "source": [
    "class ToDevice(Callback):\n",
    "    \"Move data to CUDA device and convert it to float\"\n",
    "    def __init__(self, device=None): self.device = torch.device('cpu')#ifnone(device, DEVICE)\n",
    "    def before_batch(self): \n",
    "        self.learn.xb = (self.learn.xb[0][0].float(), self.learn.xb[0][1].float())\n",
    "        self.learn.xb,self.learn.yb = to_device(self.xb),to_device(self.yb)\n",
    "    def before_fit(self): self.model.to(self.device)"
   ]
  },
  {
   "cell_type": "code",
   "execution_count": 3,
   "metadata": {},
   "outputs": [],
   "source": [
    "@delegates()\n",
    "class FocalBCEWithLogitFlat(BaseLoss):\n",
    "    \"Same as `nn.BCEWithLogitsLoss`, but flattens input and target.\"\n",
    "    @use_kwargs_dict(keep=True, reduction='mean', pos_weight=None)\n",
    "    def __init__(self, *args, axis=-1, floatify=True, thresh=0.5, **kwargs):\n",
    "        if kwargs.get('pos_weight', None) is not None and kwargs.get('flatten', None) is True:\n",
    "            raise ValueError(\"`flatten` must be False when using `pos_weight` to avoid a RuntimeError due to shape mismatch\")\n",
    "        if kwargs.get('pos_weight', None) is not None: kwargs['flatten'] = False\n",
    "        super().__init__(FocalBCEWithLogits, *args, axis=axis, floatify=floatify, is_2d=False, **kwargs)\n",
    "        self.thresh = thresh\n",
    "\n",
    "    def decodes(self, x):    return x>self.thresh\n",
    "    def activation(self, x): return torch.sigmoid(x)"
   ]
  },
  {
   "cell_type": "code",
   "execution_count": 4,
   "metadata": {},
   "outputs": [],
   "source": [
    "class FocalBCEWithLogits(nn.BCEWithLogitsLoss):\n",
    "    def __init__(self, gamma : int = 2, size_average=None, reduce=None, reduction: str = 'mean',\n",
    "                 pos_weight: Optional[Tensor] = None) -> None:\n",
    "        super(FocalBCEWithLogits, self).__init__(size_average, reduce, reduction)\n",
    "        self.register_buffer('weight', None)\n",
    "        self.register_buffer('pos_weight', pos_weight)\n",
    "        self.gamma = gamma\n",
    "        \n",
    "    def focal_weights(self, input: Tensor, target: Tensor):\n",
    "        y, t = input.sigmoid(), target \n",
    "        return 0.5*((1-t)*y + (1-y)*t).pow(self.gamma)\n",
    "    \n",
    "    def forward(self, input: Tensor, target: Tensor) -> Tensor:\n",
    "        weight = self.focal_weights(input, target).detach()\n",
    "        return F.binary_cross_entropy_with_logits(input, target,\n",
    "                                                  weight = weight,\n",
    "                                                  pos_weight=self.pos_weight,\n",
    "                                                  reduction=self.reduction)"
   ]
  },
  {
   "cell_type": "code",
   "execution_count": 5,
   "metadata": {},
   "outputs": [],
   "source": [
    "import sklearn.metrics as skm\n",
    "def accuracy_(inp, targ, thresh=0.5):\n",
    "    \"Compute accuracy with `targ` when `pred` is bs * n_classes\"\n",
    "    pred,targ = flatten_check((inp > thresh)*1, targ)\n",
    "    return (pred == targ).float().mean()\n",
    "\n",
    "def Precision(axis=-1, labels=None, thresh = None,  pos_label=1, average='binary', sample_weight=None):\n",
    "    \"Precision for single-label classification problems\"\n",
    "    return skm_to_fastai(skm.precision_score, thresh = thresh, axis=axis,\n",
    "                         labels=labels, pos_label=pos_label, average=average, sample_weight=sample_weight)\n",
    "def F1Score(axis=-1, labels=None, thresh = None,pos_label=1, average='binary', sample_weight=None):\n",
    "    \"F1 score for single-label classification problems\"\n",
    "    return skm_to_fastai(skm.f1_score, axis=axis,thresh = thresh,\n",
    "                         labels=labels, pos_label=pos_label, average=average, sample_weight=sample_weight)\n",
    "\n",
    "def Recall(axis=-1, labels=None, thresh = None, pos_label=1, average='binary', sample_weight=None):\n",
    "    \"Recall for single-label classification problems\"\n",
    "    return skm_to_fastai(skm.recall_score, axis=axis, thresh = thresh,\n",
    "                         labels=labels, pos_label=pos_label, average=average, sample_weight=sample_weight)"
   ]
  },
  {
   "cell_type": "code",
   "execution_count": 6,
   "metadata": {},
   "outputs": [],
   "source": [
    "# Training set\n",
    "trainset = rp.RP_Dataset( subjects = [1], sampling_params= (1,90), wind_len = 15 , fin = 662)#en Sec\n",
    "\n",
    "sampler = rp.RPSampler(trainset, batch_size = 64, size = 640,  weights = [0.5, 0.8])\n",
    "\n",
    "train_loader = torch.utils.data.DataLoader(trainset, batch_size=64, \n",
    "                                     num_workers=0,sampler = sampler, collate_fn= rp.ssl_collate)\n",
    "# Validation set\n",
    "val_generator = rp.RP_Dataset( subjects = [1], sampling_params= (1,60), wind_len = 15 , debut = 662)\n",
    "val_sampler =  rp.RPSampler(val_generator, batch_size = 30,size = 90,  weights = [0.5]*2)\n",
    "\n",
    "valset = torch.utils.data.Subset(val_generator, indices= list(val_sampler))\n",
    "val_loader = torch.utils.data.DataLoader(valset, batch_size=30, \n",
    "                                     num_workers=0, collate_fn=rp.ssl_collate)\n"
   ]
  },
  {
   "cell_type": "code",
   "execution_count": 7,
   "metadata": {},
   "outputs": [],
   "source": [
    "#model\n",
    "model = mdl.SiameseModel(hidden_dim = 32*10,n_classes = 2, voxels = 97)\n",
    "#model = model.to(torch.float)\n",
    "# loss_fn \n",
    "loss_fn = CrossEntropyLossFlat()# FocalBCEWithLogitFlat( )# BCEWithLogitsLossFlat() #FocalBCEWithLogitFlat( ) #soft_margin_loss\n",
    "# fastai learner\n",
    "dls = DataLoaders(train_loader,val_loader) # a validation set need to be defined\n",
    "learn = Learner(dls, model, loss_func=loss_fn, opt_func=Adam, metrics=[accuracy, F1Score(), Precision(), Recall()], \n",
    "                cbs = [ToDevice, SaveModelCallback( monitor='f1_score', fname='model_')])"
   ]
  },
  {
   "cell_type": "code",
   "execution_count": 8,
   "metadata": {},
   "outputs": [
    {
     "data": {
      "text/plain": [
       "Path('models/model_.pth')"
      ]
     },
     "execution_count": 8,
     "metadata": {},
     "output_type": "execute_result"
    }
   ],
   "source": [
    "learn.save('model_')"
   ]
  },
  {
   "cell_type": "code",
   "execution_count": 9,
   "metadata": {},
   "outputs": [
    {
     "data": {
      "text/html": [],
      "text/plain": [
       "<IPython.core.display.HTML object>"
      ]
     },
     "metadata": {},
     "output_type": "display_data"
    },
    {
     "data": {
      "text/plain": [
       "SuggestedLRs(lr_min=0.017378008365631102, lr_steep=1.5848931980144698e-06)"
      ]
     },
     "execution_count": 9,
     "metadata": {},
     "output_type": "execute_result"
    },
    {
     "data": {
      "image/png": "[encoded data removed]",
      "text/plain": [
       "<Figure size 432x288 with 1 Axes>"
      ]
     },
     "metadata": {
      "needs_background": "light"
     },
     "output_type": "display_data"
    }
   ],
   "source": [
    "learn.lr_find()"
   ]
  },
  {
   "cell_type": "code",
   "execution_count": null,
   "metadata": {},
   "outputs": [
    {
     "data": {
      "text/html": [
       "\n",
       "    <div>\n",
       "        <style>\n",
       "            /* Turns off some styling */\n",
       "            progress {\n",
       "                /* gets rid of default border in Firefox and Opera. */\n",
       "                border: none;\n",
       "                /* Needs to be in here for Safari polyfill so background images work as expected. */\n",
       "                background-size: auto;\n",
       "            }\n",
       "            .progress-bar-interrupted, .progress-bar-interrupted::-webkit-progress-bar {\n",
       "                background: #F44336;\n",
       "            }\n",
       "        </style>\n",
       "      <progress value='5' class='' max='6' style='width:300px; height:20px; vertical-align: middle;'></progress>\n",
       "      83.33% [5/6 04:46<00:57]\n",
       "    </div>\n",
       "    \n",
       "<table border=\"1\" class=\"dataframe\">\n",
       "  <thead>\n",
       "    <tr style=\"text-align: left;\">\n",
       "      <th>epoch</th>\n",
       "      <th>train_loss</th>\n",
       "      <th>valid_loss</th>\n",
       "      <th>accuracy</th>\n",
       "      <th>f1_score</th>\n",
       "      <th>precision_score</th>\n",
       "      <th>recall_score</th>\n",
       "      <th>time</th>\n",
       "    </tr>\n",
       "  </thead>\n",
       "  <tbody>\n",
       "    <tr>\n",
       "      <td>0</td>\n",
       "      <td>0.702350</td>\n",
       "      <td>0.696778</td>\n",
       "      <td>0.544444</td>\n",
       "      <td>0.643478</td>\n",
       "      <td>0.552239</td>\n",
       "      <td>0.770833</td>\n",
       "      <td>01:00</td>\n",
       "    </tr>\n",
       "    <tr>\n",
       "      <td>1</td>\n",
       "      <td>0.684018</td>\n",
       "      <td>0.693072</td>\n",
       "      <td>0.588889</td>\n",
       "      <td>0.699187</td>\n",
       "      <td>0.573333</td>\n",
       "      <td>0.895833</td>\n",
       "      <td>00:54</td>\n",
       "    </tr>\n",
       "    <tr>\n",
       "      <td>2</td>\n",
       "      <td>0.682759</td>\n",
       "      <td>0.689897</td>\n",
       "      <td>0.533333</td>\n",
       "      <td>0.637931</td>\n",
       "      <td>0.544118</td>\n",
       "      <td>0.770833</td>\n",
       "      <td>00:59</td>\n",
       "    </tr>\n",
       "    <tr>\n",
       "      <td>3</td>\n",
       "      <td>0.677311</td>\n",
       "      <td>0.687352</td>\n",
       "      <td>0.566667</td>\n",
       "      <td>0.692913</td>\n",
       "      <td>0.556962</td>\n",
       "      <td>0.916667</td>\n",
       "      <td>00:55</td>\n",
       "    </tr>\n",
       "    <tr>\n",
       "      <td>4</td>\n",
       "      <td>0.670900</td>\n",
       "      <td>0.681962</td>\n",
       "      <td>0.555556</td>\n",
       "      <td>0.687500</td>\n",
       "      <td>0.550000</td>\n",
       "      <td>0.916667</td>\n",
       "      <td>00:56</td>\n",
       "    </tr>\n",
       "  </tbody>\n",
       "</table><p>\n",
       "\n",
       "    <div>\n",
       "        <style>\n",
       "            /* Turns off some styling */\n",
       "            progress {\n",
       "                /* gets rid of default border in Firefox and Opera. */\n",
       "                border: none;\n",
       "                /* Needs to be in here for Safari polyfill so background images work as expected. */\n",
       "                background-size: auto;\n",
       "            }\n",
       "            .progress-bar-interrupted, .progress-bar-interrupted::-webkit-progress-bar {\n",
       "                background: #F44336;\n",
       "            }\n",
       "        </style>\n",
       "      <progress value='1' class='' max='10' style='width:300px; height:20px; vertical-align: middle;'></progress>\n",
       "      10.00% [1/10 00:05<00:49]\n",
       "    </div>\n",
       "    "
      ],
      "text/plain": [
       "<IPython.core.display.HTML object>"
      ]
     },
     "metadata": {},
     "output_type": "display_data"
    },
    {
     "name": "stdout",
     "output_type": "stream",
     "text": [
      "Better model found at epoch 0 with f1_score value: 0.6434782608695653.\n",
      "Better model found at epoch 1 with f1_score value: 0.6991869918699187.\n"
     ]
    }
   ],
   "source": [
    "learn.unfreeze()\n",
    "learn.fit(6, 3e-04)"
   ]
  },
  {
   "cell_type": "code",
   "execution_count": 38,
   "metadata": {},
   "outputs": [
    {
     "data": {
      "text/html": [
       "<table border=\"1\" class=\"dataframe\">\n",
       "  <thead>\n",
       "    <tr style=\"text-align: left;\">\n",
       "      <th>epoch</th>\n",
       "      <th>train_loss</th>\n",
       "      <th>valid_loss</th>\n",
       "      <th>accuracy</th>\n",
       "      <th>f1_score</th>\n",
       "      <th>precision_score</th>\n",
       "      <th>recall_score</th>\n",
       "      <th>time</th>\n",
       "    </tr>\n",
       "  </thead>\n",
       "  <tbody>\n",
       "    <tr>\n",
       "      <td>0</td>\n",
       "      <td>0.777448</td>\n",
       "      <td>0.698867</td>\n",
       "      <td>0.500000</td>\n",
       "      <td>0.594595</td>\n",
       "      <td>0.523810</td>\n",
       "      <td>0.687500</td>\n",
       "      <td>00:40</td>\n",
       "    </tr>\n",
       "    <tr>\n",
       "      <td>1</td>\n",
       "      <td>0.747036</td>\n",
       "      <td>0.697838</td>\n",
       "      <td>0.466667</td>\n",
       "      <td>0.609756</td>\n",
       "      <td>0.500000</td>\n",
       "      <td>0.781250</td>\n",
       "      <td>00:38</td>\n",
       "    </tr>\n",
       "    <tr>\n",
       "      <td>2</td>\n",
       "      <td>0.760056</td>\n",
       "      <td>0.700616</td>\n",
       "      <td>0.500000</td>\n",
       "      <td>0.642857</td>\n",
       "      <td>0.519231</td>\n",
       "      <td>0.843750</td>\n",
       "      <td>00:39</td>\n",
       "    </tr>\n",
       "    <tr>\n",
       "      <td>3</td>\n",
       "      <td>0.775433</td>\n",
       "      <td>0.704144</td>\n",
       "      <td>0.500000</td>\n",
       "      <td>0.651163</td>\n",
       "      <td>0.518519</td>\n",
       "      <td>0.875000</td>\n",
       "      <td>00:41</td>\n",
       "    </tr>\n",
       "    <tr>\n",
       "      <td>4</td>\n",
       "      <td>0.765414</td>\n",
       "      <td>0.704800</td>\n",
       "      <td>0.533333</td>\n",
       "      <td>0.674419</td>\n",
       "      <td>0.537037</td>\n",
       "      <td>0.906250</td>\n",
       "      <td>00:37</td>\n",
       "    </tr>\n",
       "  </tbody>\n",
       "</table>"
      ],
      "text/plain": [
       "<IPython.core.display.HTML object>"
      ]
     },
     "metadata": {},
     "output_type": "display_data"
    },
    {
     "name": "stdout",
     "output_type": "stream",
     "text": [
      "Better model found at epoch 0 with f1_score value: 0.5945945945945946.\n",
      "Better model found at epoch 1 with f1_score value: 0.6097560975609756.\n",
      "Better model found at epoch 2 with f1_score value: 0.6428571428571429.\n",
      "Better model found at epoch 3 with f1_score value: 0.6511627906976744.\n",
      "Better model found at epoch 4 with f1_score value: 0.6744186046511628.\n"
     ]
    }
   ],
   "source": [
    "learn.fit_one_cycle(5, 0.6e-07)"
   ]
  },
  {
   "cell_type": "code",
   "execution_count": 71,
   "metadata": {},
   "outputs": [
    {
     "data": {
      "text/html": [
       "<table border=\"1\" class=\"dataframe\">\n",
       "  <thead>\n",
       "    <tr style=\"text-align: left;\">\n",
       "      <th>epoch</th>\n",
       "      <th>train_loss</th>\n",
       "      <th>valid_loss</th>\n",
       "      <th>accuracy</th>\n",
       "      <th>f1_score</th>\n",
       "      <th>precision_score</th>\n",
       "      <th>recall_score</th>\n",
       "      <th>time</th>\n",
       "    </tr>\n",
       "  </thead>\n",
       "  <tbody>\n",
       "    <tr>\n",
       "      <td>0</td>\n",
       "      <td>0.743244</td>\n",
       "      <td>0.706267</td>\n",
       "      <td>0.516667</td>\n",
       "      <td>0.666667</td>\n",
       "      <td>0.527273</td>\n",
       "      <td>0.906250</td>\n",
       "      <td>00:39</td>\n",
       "    </tr>\n",
       "    <tr>\n",
       "      <td>1</td>\n",
       "      <td>0.751785</td>\n",
       "      <td>0.705483</td>\n",
       "      <td>0.516667</td>\n",
       "      <td>0.666667</td>\n",
       "      <td>0.527273</td>\n",
       "      <td>0.906250</td>\n",
       "      <td>00:41</td>\n",
       "    </tr>\n",
       "    <tr>\n",
       "      <td>2</td>\n",
       "      <td>0.753479</td>\n",
       "      <td>0.706007</td>\n",
       "      <td>0.500000</td>\n",
       "      <td>0.651163</td>\n",
       "      <td>0.518519</td>\n",
       "      <td>0.875000</td>\n",
       "      <td>00:40</td>\n",
       "    </tr>\n",
       "    <tr>\n",
       "      <td>3</td>\n",
       "      <td>0.750572</td>\n",
       "      <td>0.696517</td>\n",
       "      <td>0.516667</td>\n",
       "      <td>0.658824</td>\n",
       "      <td>0.528302</td>\n",
       "      <td>0.875000</td>\n",
       "      <td>00:39</td>\n",
       "    </tr>\n",
       "    <tr>\n",
       "      <td>4</td>\n",
       "      <td>0.750441</td>\n",
       "      <td>0.690416</td>\n",
       "      <td>0.533333</td>\n",
       "      <td>0.666667</td>\n",
       "      <td>0.538462</td>\n",
       "      <td>0.875000</td>\n",
       "      <td>00:39</td>\n",
       "    </tr>\n",
       "  </tbody>\n",
       "</table>"
      ],
      "text/plain": [
       "<IPython.core.display.HTML object>"
      ]
     },
     "metadata": {},
     "output_type": "display_data"
    },
    {
     "name": "stdout",
     "output_type": "stream",
     "text": [
      "Better model found at epoch 0 with f1_score value: 0.6666666666666665.\n",
      "Better model found at epoch 4 with f1_score value: 0.6666666666666667.\n"
     ]
    }
   ],
   "source": [
    "learn.fit_one_cycle(5, 0.6e-07)"
   ]
  },
  {
   "cell_type": "code",
   "execution_count": 9,
   "metadata": {},
   "outputs": [],
   "source": [
    "dataset = rp.RP_Dataset( subjects = [1], sampling_params= (20,30), wind_len = 15 )\n",
    "X = torch.from_numpy(dataset.audio).unfold(-1, dataset.w*dataset.sr, int(1.486*dataset.sr))\n",
    "AudioData = torch.utils.data.TensorDataset(X)\n",
    "Audiosampler = torch.utils.data.SequentialSampler(AudioData)\n",
    "Audioloader = torch.utils.data.DataLoader(AudioData, sampler = Audiosampler,  batch_size= 2)"
   ]
  },
  {
   "cell_type": "code",
   "execution_count": 10,
   "metadata": {},
   "outputs": [
    {
     "data": {
      "text/plain": [
       "(946, 320)"
      ]
     },
     "execution_count": 10,
     "metadata": {},
     "output_type": "execute_result"
    }
   ],
   "source": [
    "## SSL audio encoder\n",
    "model = learn.model#.to(torch.device(\"cuda\"))\n",
    "model.eval()\n",
    "Audio_extractor = nn.Sequential( model.audio, nn.Flatten())\n",
    "with torch.no_grad():\n",
    "    embeddings = [Audio_extractor(audio[0]).numpy() for audio in Audioloader]\n",
    "fv = np.vstack(embeddings); fv.shape"
   ]
  },
  {
   "cell_type": "code",
   "execution_count": 17,
   "metadata": {},
   "outputs": [],
   "source": [
    "#fv = np.load(rp.FMRIDIR+'/sub_1.npy')\n",
    "middle = int(fv.shape[0]/2)\n",
    "y = np.load('data/fmri/raw/fmri_97voxels.npz', allow_pickle =True)['X']\n",
    "y_train = y[:middle] \n",
    "y_test = y[middle:]"
   ]
  },
  {
   "cell_type": "code",
   "execution_count": 18,
   "metadata": {},
   "outputs": [],
   "source": [
    "X_train = (fv[:middle])\n",
    "X_test = (fv[middle:])"
   ]
  },
  {
   "cell_type": "code",
   "execution_count": 20,
   "metadata": {},
   "outputs": [
    {
     "data": {
      "text/plain": [
       "MultiOutputRegressor(estimator=GradientBoostingRegressor(random_state=0))"
      ]
     },
     "execution_count": 20,
     "metadata": {},
     "output_type": "execute_result"
    }
   ],
   "source": [
    "from sklearn.datasets import make_regression\n",
    "from sklearn.ensemble import GradientBoostingRegressor\n",
    "from sklearn.model_selection import train_test_split\n",
    "from sklearn.multioutput import MultiOutputRegressor\n",
    "clf = MultiOutputRegressor(GradientBoostingRegressor(random_state=0))\n",
    "clf.fit(X_train, y_train)"
   ]
  },
  {
   "cell_type": "code",
   "execution_count": 25,
   "metadata": {},
   "outputs": [
    {
     "data": {
      "text/plain": [
       "array([ 0.07593198,  0.05586931, -0.05184485,  0.15926299, -0.01625926,\n",
       "        0.0477893 ,  0.03651086,  0.08054457,  0.11153366,  0.16544547,\n",
       "        0.04476778,  0.07010355,  0.09483618,  0.00400971,  0.14733563,\n",
       "        0.1593623 ,  0.08662763,  0.0374167 ,  0.13701507,  0.09456718,\n",
       "       -0.03489638, -0.08458128, -0.02535507,  0.13721709,  0.14669997,\n",
       "        0.05102374,  0.01490289,  0.09118962,  0.05556091,  0.044879  ,\n",
       "        0.03781872,  0.00770876,  0.10180508,  0.09908221,  0.09132212,\n",
       "        0.11845733,  0.01054471, -0.04379596, -0.10110217, -0.00081658,\n",
       "       -0.01290718,  0.04319289,  0.04351495,  0.07198017,  0.05816141,\n",
       "        0.02450486,  0.06925222,  0.0311666 , -0.08449721, -0.02728814,\n",
       "        0.03168523,  0.09939973,  0.02076418,  0.09824388,  0.15583612,\n",
       "        0.05736454,  0.04196868,  0.07724518,  0.08998976,  0.07893431,\n",
       "        0.07176828,  0.13880206,  0.06799521,  0.06568973,  0.06644305,\n",
       "       -0.024534  ,  0.15167074,  0.09397835, -0.09107809,  0.02824377,\n",
       "        0.11903784,  0.05106405,  0.15422989,  0.14804656,  0.07269472,\n",
       "        0.02861372, -0.0220557 ,  0.07387906, -0.08479983,  0.07098621,\n",
       "       -0.03206469, -0.0420054 ,  0.002317  ,  0.02261232, -0.0350154 ,\n",
       "        0.12253304, -0.01602253, -0.06356086,  0.00326623,  0.07255504,\n",
       "        0.01090781,  0.02282202,  0.11291317,  0.08352237,  0.09831649,\n",
       "        0.02185295,  0.13136139])"
      ]
     },
     "execution_count": 25,
     "metadata": {},
     "output_type": "execute_result"
    }
   ],
   "source": [
    "predictions = clf.predict(X_test)\n",
    "scores = r2_score(y_test, predictions, multioutput='raw_values')\n",
    "#scores[scores < 0] = 0;\n",
    "scores"
   ]
  },
  {
   "cell_type": "code",
   "execution_count": 31,
   "metadata": {},
   "outputs": [
    {
     "name": "stdout",
     "output_type": "stream",
     "text": [
      "R2 scores in 0.20% of regions higher than 0.01\n"
     ]
    }
   ],
   "source": [
    "print(f\"R2 scores in {(scores>0.1).mean():.2f}% of regions higher than {0.01}\")"
   ]
  },
  {
   "cell_type": "code",
   "execution_count": 15,
   "metadata": {},
   "outputs": [
    {
     "data": {
      "text/plain": [
       "array([-1.08657267e-02, -3.04873819e-06, -1.99546743e-03, -7.97596040e-03,\n",
       "       -2.95578469e-04, -2.64732934e-04, -1.04435436e-03, -9.07161240e-03,\n",
       "       -9.63237153e-03, -2.12242168e-02, -7.22458383e-03, -8.86375465e-03,\n",
       "       -2.96708732e-02, -3.94775669e-02, -2.78856475e-02, -2.69149824e-02,\n",
       "       -2.40163448e-02, -4.22268047e-02, -3.93426624e-02, -1.80882564e-02,\n",
       "       -2.70325779e-02, -1.29372190e-02, -1.53491970e-02, -5.26548746e-02,\n",
       "       -3.67195153e-02, -1.51766300e-03, -3.96925247e-03, -2.44949029e-02,\n",
       "       -1.14568054e-02, -1.81706441e-02, -5.67513166e-03, -1.57140181e-04,\n",
       "       -1.94256056e-02, -3.95299118e-03, -1.10118927e-02, -3.75188843e-02,\n",
       "       -1.59097810e-02, -9.81549908e-03, -1.99214109e-03, -1.52581549e-02,\n",
       "       -4.54622460e-02, -3.58609803e-02, -2.36629211e-03, -2.78779499e-04,\n",
       "       -2.40070151e-02, -1.41815647e-02, -2.07605591e-02, -2.07704480e-02,\n",
       "       -2.52210221e-03, -1.24632374e-02, -9.28542863e-04, -1.59262678e-02,\n",
       "       -1.61089479e-02, -1.67077880e-02, -5.45907662e-02, -2.56149612e-02,\n",
       "       -1.98357707e-02, -1.92234046e-02, -2.84743172e-02, -2.54198795e-02,\n",
       "       -7.81566565e-03, -1.12476896e-02, -1.96445196e-02, -1.00896144e-02,\n",
       "       -2.99749064e-02, -1.99995819e-02, -2.30103167e-02, -1.05763926e-02,\n",
       "       -5.41449785e-03, -3.08326815e-02, -1.14290469e-02, -1.72910366e-02,\n",
       "       -3.10986099e-02, -1.44796538e-02, -3.20457831e-02, -1.01026738e-04,\n",
       "       -3.08453949e-02, -1.47804426e-02, -6.23587067e-03, -1.88647630e-02,\n",
       "       -1.77760501e-02, -2.87923358e-04, -1.96338727e-02, -2.67260562e-02,\n",
       "       -3.92199591e-02, -2.62678891e-02, -1.03568874e-02, -7.31059965e-03,\n",
       "       -3.51242835e-02, -2.94495329e-02, -7.99372673e-04, -2.87209330e-03,\n",
       "       -1.87868838e-02, -1.78590150e-02, -1.43055943e-02, -1.26622156e-02,\n",
       "       -2.01389586e-02])"
      ]
     },
     "execution_count": 15,
     "metadata": {},
     "output_type": "execute_result"
    }
   ],
   "source": [
    "from sklearn.linear_model import Ridge\n",
    "from sklearn.metrics import r2_score\n",
    "estimator = Ridge(alpha=100) # Alpha value has been explored before\n",
    "estimator.fit(y_train,y_train)\n",
    "predictions = estimator.predict(y_test)\n",
    "scores = r2_score(y_test, predictions, multioutput='raw_values')\n",
    "#scores[scores < 0] = 0;\n",
    "scores"
   ]
  },
  {
   "cell_type": "raw",
   "metadata": {},
   "source": [
    "from sklearn.linear_model import RidgeCV\n",
    "from sklearn.metrics import r2_score\n",
    "\n",
    "clf = RidgeCV(alphas=[100, 250]).fit(X_train, y_train)\n",
    "#print(\"train score:\",clf.score(X_train, y_train), \"val score :\", clf.score(X_test, y_test))\n",
    "predictions = clf.predict(X_test)\n",
    "scores = r2_score(y_test, predictions, multioutput='raw_values')\n",
    "#scores[scores < 0] = 0;\n",
    "print(\"Test scores : \", scores)"
   ]
  },
  {
   "cell_type": "code",
   "execution_count": 21,
   "metadata": {},
   "outputs": [
    {
     "name": "stdout",
     "output_type": "stream",
     "text": [
      "R2 scores in 0.00% of regions higher than 0.1\n"
     ]
    }
   ],
   "source": [
    "print(f\"R2 scores in {(scores>0.1).mean():.2f}% of regions higher than {0.1}\")"
   ]
  },
  {
   "cell_type": "code",
   "execution_count": 144,
   "metadata": {},
   "outputs": [
    {
     "data": {
      "text/html": [
       "<table border=\"1\" class=\"dataframe\">\n",
       "  <thead>\n",
       "    <tr style=\"text-align: left;\">\n",
       "      <th>epoch</th>\n",
       "      <th>train_loss</th>\n",
       "      <th>valid_loss</th>\n",
       "      <th>accuracy_</th>\n",
       "      <th>f1_score</th>\n",
       "      <th>precision_score</th>\n",
       "      <th>recall_score</th>\n",
       "      <th>time</th>\n",
       "    </tr>\n",
       "  </thead>\n",
       "  <tbody>\n",
       "    <tr>\n",
       "      <td>0</td>\n",
       "      <td>0.105073</td>\n",
       "      <td>0.088751</td>\n",
       "      <td>0.450000</td>\n",
       "      <td>0.744681</td>\n",
       "      <td>0.593220</td>\n",
       "      <td>1.000000</td>\n",
       "      <td>00:38</td>\n",
       "    </tr>\n",
       "    <tr>\n",
       "      <td>1</td>\n",
       "      <td>0.103664</td>\n",
       "      <td>0.089342</td>\n",
       "      <td>0.433333</td>\n",
       "      <td>0.707317</td>\n",
       "      <td>0.617021</td>\n",
       "      <td>0.828571</td>\n",
       "      <td>00:40</td>\n",
       "    </tr>\n",
       "    <tr>\n",
       "      <td>2</td>\n",
       "      <td>0.098960</td>\n",
       "      <td>0.091515</td>\n",
       "      <td>0.416667</td>\n",
       "      <td>0.712644</td>\n",
       "      <td>0.596154</td>\n",
       "      <td>0.885714</td>\n",
       "      <td>00:38</td>\n",
       "    </tr>\n",
       "    <tr>\n",
       "      <td>3</td>\n",
       "      <td>0.098081</td>\n",
       "      <td>0.093063</td>\n",
       "      <td>0.433333</td>\n",
       "      <td>0.719101</td>\n",
       "      <td>0.592593</td>\n",
       "      <td>0.914286</td>\n",
       "      <td>00:39</td>\n",
       "    </tr>\n",
       "    <tr>\n",
       "      <td>4</td>\n",
       "      <td>0.096804</td>\n",
       "      <td>0.092860</td>\n",
       "      <td>0.416667</td>\n",
       "      <td>0.704545</td>\n",
       "      <td>0.584906</td>\n",
       "      <td>0.885714</td>\n",
       "      <td>00:38</td>\n",
       "    </tr>\n",
       "  </tbody>\n",
       "</table>"
      ],
      "text/plain": [
       "<IPython.core.display.HTML object>"
      ]
     },
     "metadata": {},
     "output_type": "display_data"
    },
    {
     "name": "stdout",
     "output_type": "stream",
     "text": [
      "Better model found at epoch 0 with f1_score value: 0.7446808510638298.\n"
     ]
    }
   ],
   "source": [
    "learn.fit_one_cycle(5, 7e-04)"
   ]
  },
  {
   "cell_type": "code",
   "execution_count": 8,
   "metadata": {},
   "outputs": [
    {
     "data": {
      "text/html": [],
      "text/plain": [
       "<IPython.core.display.HTML object>"
      ]
     },
     "metadata": {},
     "output_type": "display_data"
    },
    {
     "name": "stdout",
     "output_type": "stream",
     "text": [
      "Better model found at epoch 0 with f1_score value: 0.6.\n"
     ]
    },
    {
     "data": {
      "text/plain": [
       "(#5) [0.7074955105781555,0.5833333134651184,0.7252747252747253,0.6,0.9166666666666666]"
      ]
     },
     "execution_count": 8,
     "metadata": {},
     "output_type": "execute_result"
    }
   ],
   "source": [
    "learn.load('model_')\n",
    "learn.validate()"
   ]
  },
  {
   "cell_type": "code",
   "execution_count": null,
   "metadata": {},
   "outputs": [],
   "source": []
  }
 ],
 "metadata": {
  "kernelspec": {
   "display_name": "Python 3",
   "language": "python",
   "name": "python3"
  },
  "language_info": {
   "codemirror_mode": {
    "name": "ipython",
    "version": 3
   },
   "file_extension": ".py",
   "mimetype": "text/x-python",
   "name": "python",
   "nbconvert_exporter": "python",
   "pygments_lexer": "ipython3",
   "version": "3.7.4"
  }
 },
 "nbformat": 4,
 "nbformat_minor": 4
}
